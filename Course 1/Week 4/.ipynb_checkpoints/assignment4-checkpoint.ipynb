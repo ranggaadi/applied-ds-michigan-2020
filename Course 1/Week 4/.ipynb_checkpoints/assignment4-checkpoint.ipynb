{
 "cells": [
  {
   "cell_type": "markdown",
   "metadata": {
    "deletable": false,
    "editable": false,
    "nbgrader": {
     "checksum": "48770f8b5f5d3062d3badd51fcafc401",
     "grade": false,
     "grade_id": "cell-a6c4f74309fc2379",
     "locked": true,
     "schema_version": 1,
     "solution": false
    }
   },
   "source": [
    "# Assignment 4\n",
    "## Description\n",
    "In this assignment you must read in a file of metropolitan regions and associated sports teams from [assets/wikipedia_data.html](assets/wikipedia_data.html) and answer some questions about each metropolitan region. Each of these regions may have one or more teams from the \"Big 4\": NFL (football, in [assets/nfl.csv](assets/nfl.csv)), MLB (baseball, in [assets/mlb.csv](assets/mlb.csv)), NBA (basketball, in [assets/nba.csv](assets/nba.csv) or NHL (hockey, in [assets/nhl.csv](assets/nhl.csv)). Please keep in mind that all questions are from the perspective of the metropolitan region, and that this file is the \"source of authority\" for the location of a given sports team. Thus teams which are commonly known by a different area (e.g. \"Oakland Raiders\") need to be mapped into the metropolitan region given (e.g. San Francisco Bay Area). This will require some human data understanding outside of the data you've been given (e.g. you will have to hand-code some names, and might need to google to find out where teams are)!\n",
    "\n",
    "For each sport I would like you to answer the question: **what is the win/loss ratio's correlation with the population of the city it is in?** Win/Loss ratio refers to the number of wins over the number of wins plus the number of losses. Remember that to calculate the correlation with [`pearsonr`](https://docs.scipy.org/doc/scipy/reference/generated/scipy.stats.pearsonr.html), so you are going to send in two ordered lists of values, the populations from the wikipedia_data.html file and the win/loss ratio for a given sport in the same order. Average the win/loss ratios for those cities which have multiple teams of a single sport. Each sport is worth an equal amount in this assignment (20%\\*4=80%) of the grade for this assignment. You should only use data **from year 2018** for your analysis -- this is important!\n",
    "\n",
    "## Notes\n",
    "\n",
    "1. Do not include data about the MLS or CFL in any of the work you are doing, we're only interested in the Big 4 in this assignment.\n",
    "2. I highly suggest that you first tackle the four correlation questions in order, as they are all similar and worth the majority of grades for this assignment. This is by design!\n",
    "3. It's fair game to talk with peers about high level strategy as well as the relationship between metropolitan areas and sports teams. However, do not post code solving aspects of the assignment (including such as dictionaries mapping areas to teams, or regexes which will clean up names).\n",
    "4. There may be more teams than the assert statements test, remember to collapse multiple teams in one city into a single value!"
   ]
  },
  {
   "cell_type": "markdown",
   "metadata": {
    "deletable": false,
    "editable": false,
    "nbgrader": {
     "checksum": "369ff9ecf0ee04640574205cbc697f94",
     "grade": false,
     "grade_id": "cell-712b2b5da63d4505",
     "locked": true,
     "schema_version": 1,
     "solution": false
    }
   },
   "source": [
    "## Question 1\n",
    "For this question, calculate the win/loss ratio's correlation with the population of the city it is in for the **NHL** using **2018** data."
   ]
  },
  {
   "cell_type": "code",
   "execution_count": 3,
   "metadata": {},
   "outputs": [],
   "source": [
    "pd.set_option('mode.chained_assignment', None) #turn off warning"
   ]
  },
  {
   "cell_type": "code",
   "execution_count": 4,
   "metadata": {
    "deletable": false,
    "nbgrader": {
     "checksum": "1cac4803b02502929f5b1612d48db2b5",
     "grade": false,
     "grade_id": "cell-69b16e4386e58030",
     "locked": false,
     "schema_version": 1,
     "solution": true
    }
   },
   "outputs": [],
   "source": [
    "import pandas as pd\n",
    "import numpy as np\n",
    "import scipy.stats as stats\n",
    "import re\n",
    "\n",
    "nhl_df=pd.read_csv(\"assets/nhl.csv\")\n",
    "cities=pd.read_html(\"assets/wikipedia_data.html\")[1]\n",
    "cities=cities.iloc[:-1,[0,3,5,6,7,8]]\n",
    "\n",
    "\n",
    "def nhl_correlation(): \n",
    "    # YOUR CODE HERE\n",
    "    nhl_2018 = nhl_df[nhl_df['year'] == 2018]\n",
    "    nhl_2018.drop([0, 9, 18, 26], inplace=True) # removing string value on each feature \n",
    "    nhl_2018.reset_index(drop=True, inplace=True) # reseting index\n",
    "    nhl_2018 = nhl_2018.astype({'W': int, 'L':int}) # change dtypes from string to int for calculation\n",
    "    nhl_2018['w/l_ratio'] = nhl_2018['W'] / (nhl_2018['W'] + nhl_2018['L']) # counting win / loses ratio\n",
    "    \n",
    "    \n",
    "    nhl_2018 = nhl_2018[[\"team\", 'w/l_ratio']] # selecting only 2018 dataset an subset \n",
    "                                                                      #feature\n",
    "        \n",
    "    ny_avg_wlratio = np.mean(nhl_2018.loc[[12, 14, 15]])['w/l_ratio']\n",
    "    la_avg_wlratio = np.mean(nhl_2018.loc[[24, 26]])['w/l_ratio']\n",
    "    \n",
    "    nhl_2018 = nhl_2018.append({'team': \"New York Avg\", 'w/l_ratio':ny_avg_wlratio}, ignore_index=True)\n",
    "    nhl_2018 = nhl_2018.append({'team': \"Los Angeles Avg\", 'w/l_ratio':la_avg_wlratio}, ignore_index=True)\n",
    "    \n",
    "    \n",
    "    nhl_2018.drop([12, 14, 15, 24, 26], inplace=True)\n",
    "    nhl_2018.reset_index(drop=True, inplace=True) # reseting index\n",
    "    \n",
    "    nhl_2018['Metropolitan area'] = [\n",
    "        'Tampa Bay Area', 'Boston', 'Toronto', 'Miami–Fort Lauderdale', 'Detroit', 'Montreal', 'Ottawa',\n",
    "        'Buffalo', 'Washington, D.C.','Pittsburgh', 'Philadelphia', 'Columbus', 'Raleigh', 'Nashville', 'Winnipeg',\n",
    "        'Minneapolis–Saint Paul', 'Denver', 'St. Louis', 'Dallas–Fort Worth', 'Chicago', 'Las Vegas',\n",
    "        'San Francisco Bay Area', 'Calgary', 'Edmonton', 'Vancouver', 'Phoenix', 'New York City', 'Los Angeles'\n",
    "    ]\n",
    "\n",
    "    \n",
    "    new_nhl_df = pd.merge(nhl_2018, cities, on='Metropolitan area', how='left')\n",
    "    new_nhl_df = new_nhl_df.astype({'Population (2016 est.)[8]': int})   \n",
    "    \n",
    "    population_by_region = new_nhl_df['Population (2016 est.)[8]'].to_list() # pass in metropolitan area population from cities\n",
    "    win_loss_by_region = new_nhl_df['w/l_ratio'].to_list() # pass in win/loss ratio from nhl_df in the same order as cities[\"Metropolitan area\"]\n",
    "\n",
    "    assert len(population_by_region) == len(win_loss_by_region), \"Q1: Your lists must be the same length\"\n",
    "    assert len(population_by_region) == 28, \"Q1: There should be 28 teams being analysed for NHL\"\n",
    "    \n",
    "    return stats.pearsonr(population_by_region, win_loss_by_region)[0]"
   ]
  },
  {
   "cell_type": "code",
   "execution_count": 5,
   "metadata": {},
   "outputs": [
    {
     "data": {
      "text/plain": [
       "0.012486162921209923"
      ]
     },
     "execution_count": 5,
     "metadata": {},
     "output_type": "execute_result"
    }
   ],
   "source": [
    "nhl_correlation()"
   ]
  },
  {
   "cell_type": "code",
   "execution_count": null,
   "metadata": {
    "deletable": false,
    "editable": false,
    "nbgrader": {
     "checksum": "52a581df513c71153e105b93764cda4b",
     "grade": true,
     "grade_id": "cell-ebe0b2dfe1067e63",
     "locked": true,
     "points": 20,
     "schema_version": 1,
     "solution": false
    }
   },
   "outputs": [],
   "source": []
  },
  {
   "cell_type": "markdown",
   "metadata": {
    "deletable": false,
    "editable": false,
    "nbgrader": {
     "checksum": "988912cae4968d81473f46d783e79c16",
     "grade": false,
     "grade_id": "cell-cb964e690298b71d",
     "locked": true,
     "schema_version": 1,
     "solution": false
    }
   },
   "source": [
    "## Question 2\n",
    "For this question, calculate the win/loss ratio's correlation with the population of the city it is in for the **NBA** using **2018** data."
   ]
  },
  {
   "cell_type": "code",
   "execution_count": 6,
   "metadata": {
    "deletable": false,
    "nbgrader": {
     "checksum": "9394222aafc8ccab0a228098ba0d6010",
     "grade": false,
     "grade_id": "cell-5a5f21279e3d3572",
     "locked": false,
     "schema_version": 1,
     "solution": true
    }
   },
   "outputs": [],
   "source": [
    "import pandas as pd\n",
    "import numpy as np\n",
    "import scipy.stats as stats\n",
    "import re\n",
    "\n",
    "nba_df=pd.read_csv(\"assets/nba.csv\")\n",
    "cities=pd.read_html(\"assets/wikipedia_data.html\")[1]\n",
    "cities=cities.iloc[:-1,[0,3,5,6,7,8]]\n",
    "\n",
    "def nba_correlation():\n",
    "    # YOUR CODE HERE\n",
    "    nba_2018 = nba_df[nba_df['year'] == 2018]\n",
    "    nba_2018 = nba_2018.astype({'W': int, 'L':int}) # change dtypes from string to int for calculation\n",
    "    nba_2018['w/l_ratio'] = nba_2018['W'] / (nba_2018['W'] + nba_2018['L']) # counting win / loses ratio\n",
    "    \n",
    "    \n",
    "    nba_2018 = nba_2018[[\"team\", 'w/l_ratio']] # selecting only 2018 dataset an subset \n",
    "                                                                      #feature\n",
    "        \n",
    "    ny_avg_wlratio = np.mean(nba_2018.loc[[10, 11]])['w/l_ratio']\n",
    "    la_avg_wlratio = np.mean(nba_2018.loc[[24, 25]])['w/l_ratio']\n",
    "    \n",
    "    nba_2018 = nba_2018.append({'team': \"New York Avg\", 'w/l_ratio':ny_avg_wlratio}, ignore_index=True)\n",
    "    nba_2018 = nba_2018.append({'team': \"Los Angeles Avg\", 'w/l_ratio':la_avg_wlratio}, ignore_index=True)\n",
    "    \n",
    "    nba_2018.drop([10, 11, 24, 25], inplace=True)\n",
    "    nba_2018.reset_index(drop=True, inplace=True)\n",
    "    \n",
    "    nba_2018['Metropolitan area'] = [\n",
    "        'Toronto', 'Boston', 'Philadelphia', 'Cleveland', 'Indianapolis', 'Miami–Fort Lauderdale', 'Milwaukee',\n",
    "        'Washington, D.C.', 'Detroit', 'Charlotte', 'Chicago', 'Orlando', 'Atlanta', 'Houston', \n",
    "        'San Francisco Bay Area', 'Portland', 'Oklahoma City', 'Salt Lake City', 'New Orleans', 'San Antonio',\n",
    "        'Minneapolis–Saint Paul', 'Denver', 'Sacramento', 'Dallas–Fort Worth', 'Memphis', 'Phoenix',\n",
    "        'New York City', 'Los Angeles'\n",
    "    ]\n",
    "    \n",
    "    new_nba_df = pd.merge(nba_2018, cities, on='Metropolitan area', how='left')\n",
    "    new_nba_df = new_nba_df.astype({'Population (2016 est.)[8]': int})\n",
    "    \n",
    "#     raise NotImplementedError()\n",
    "    \n",
    "    population_by_region = new_nba_df['Population (2016 est.)[8]'].to_list() # pass in metropolitan area population from cities\n",
    "    win_loss_by_region = new_nba_df['w/l_ratio'].to_list() # pass in win/loss ratio from nba_df in the same order as cities[\"Metropolitan area\"]\n",
    "\n",
    "    assert len(population_by_region) == len(win_loss_by_region), \"Q2: Your lists must be the same length\"\n",
    "    assert len(population_by_region) == 28, \"Q2: There should be 28 teams being analysed for NBA\"\n",
    "\n",
    "    return stats.pearsonr(population_by_region, win_loss_by_region)[0]"
   ]
  },
  {
   "cell_type": "code",
   "execution_count": 7,
   "metadata": {},
   "outputs": [
    {
     "data": {
      "text/plain": [
       "-0.17657160252844614"
      ]
     },
     "execution_count": 7,
     "metadata": {},
     "output_type": "execute_result"
    }
   ],
   "source": [
    "nba_correlation()"
   ]
  },
  {
   "cell_type": "code",
   "execution_count": null,
   "metadata": {
    "deletable": false,
    "editable": false,
    "nbgrader": {
     "checksum": "bbdeb8eb22f525a34c10dc8798324e42",
     "grade": true,
     "grade_id": "cell-e573b2b4a282b470",
     "locked": true,
     "points": 20,
     "schema_version": 1,
     "solution": false
    }
   },
   "outputs": [],
   "source": []
  },
  {
   "cell_type": "markdown",
   "metadata": {
    "deletable": false,
    "editable": false,
    "nbgrader": {
     "checksum": "1a1a5809f675ca033086422007cd73bd",
     "grade": false,
     "grade_id": "cell-96e15e4335df78f4",
     "locked": true,
     "schema_version": 1,
     "solution": false
    }
   },
   "source": [
    "## Question 3\n",
    "For this question, calculate the win/loss ratio's correlation with the population of the city it is in for the **MLB** using **2018** data."
   ]
  },
  {
   "cell_type": "code",
   "execution_count": 8,
   "metadata": {
    "deletable": false,
    "nbgrader": {
     "checksum": "27e8c0da6c9fa0dffc10488314335b6c",
     "grade": false,
     "grade_id": "cell-33b00fc3f3467b0c",
     "locked": false,
     "schema_version": 1,
     "solution": true
    }
   },
   "outputs": [],
   "source": [
    "import pandas as pd\n",
    "import numpy as np\n",
    "import scipy.stats as stats\n",
    "import re\n",
    "\n",
    "mlb_df=pd.read_csv(\"assets/mlb.csv\")\n",
    "cities=pd.read_html(\"assets/wikipedia_data.html\")[1]\n",
    "cities=cities.iloc[:-1,[0,3,5,6,7,8]]\n",
    "\n",
    "def mlb_correlation(): \n",
    "    # YOUR CODE HERE\n",
    "    mlb_2018 = mlb_df[mlb_df['year'] == 2018]\n",
    "    mlb_2018 = mlb_2018.astype({'W': int, 'L':int}) # change dtypes from string to int for calculation\n",
    "    mlb_2018['w/l_ratio'] = mlb_2018['W'] / (mlb_2018['W'] + mlb_2018['L']) # counting win / loses ratio\n",
    "    \n",
    "    \n",
    "    mlb_2018 = mlb_2018[[\"team\", 'w/l_ratio']] # selecting only 2018 dataset an subset \n",
    "                                                                      #feature\n",
    "    ny_avg_wlratio = np.mean(mlb_2018.loc[[1, 18]])['w/l_ratio']\n",
    "    la_avg_wlratio = np.mean(mlb_2018.loc[[13, 25]])['w/l_ratio']\n",
    "    sf_avg_wlratio = np.mean(mlb_2018.loc[[11, 28]])['w/l_ratio']\n",
    "    cg_avg_wlratio = np.mean(mlb_2018.loc[[8, 21]])['w/l_ratio']\n",
    "    \n",
    "    mlb_2018 = mlb_2018.append({'team': \"New York Avg\", 'w/l_ratio':ny_avg_wlratio}, ignore_index=True)\n",
    "    mlb_2018 = mlb_2018.append({'team': \"Los Angeles Avg\", 'w/l_ratio':la_avg_wlratio}, ignore_index=True)\n",
    "    mlb_2018 = mlb_2018.append({'team': \"San Fransisco Avg\", 'w/l_ratio':sf_avg_wlratio}, ignore_index=True)\n",
    "    mlb_2018 = mlb_2018.append({'team': \"Chicago Avg\", 'w/l_ratio':cg_avg_wlratio}, ignore_index=True)\n",
    "    \n",
    "    mlb_2018.drop([1, 8, 11, 13, 18, 21, 25, 28], inplace=True)\n",
    "    mlb_2018.reset_index(drop=True, inplace=True)\n",
    "    \n",
    "    mlb_2018['Metropolitan area'] = [\n",
    "        'Boston', 'Tampa Bay Area', 'Toronto', 'Baltimore', 'Cleveland', 'Minneapolis–Saint Paul', 'Detroit',\n",
    "        'Kansas City', 'Houston', 'Seattle', 'Dallas–Fort Worth', 'Atlanta', 'Washington, D.C.', 'Philadelphia', \n",
    "        'Miami–Fort Lauderdale', 'Milwaukee', 'St. Louis', 'Pittsburgh', 'Cincinnati', 'Denver',\n",
    "        'Phoenix', 'San Diego', 'New York City', 'Los Angeles', 'San Francisco Bay Area', 'Chicago'\n",
    "    ]\n",
    "    \n",
    "    new_mlb_df = pd.merge(mlb_2018, cities, on='Metropolitan area', how='left')\n",
    "    new_mlb_df = new_mlb_df.astype({'Population (2016 est.)[8]': int})\n",
    "    \n",
    "#     raise NotImplementedError()\n",
    "    \n",
    "    population_by_region = new_mlb_df['Population (2016 est.)[8]'].to_list() # pass in metropolitan area population from cities\n",
    "    win_loss_by_region = new_mlb_df['w/l_ratio'].to_list() # pass in win/loss ratio from mlb_df in the same order as cities[\"Metropolitan area\"]\n",
    "\n",
    "    assert len(population_by_region) == len(win_loss_by_region), \"Q3: Your lists must be the same length\"\n",
    "    assert len(population_by_region) == 26, \"Q3: There should be 26 teams being analysed for MLB\"\n",
    "\n",
    "    return stats.pearsonr(population_by_region, win_loss_by_region)[0]"
   ]
  },
  {
   "cell_type": "code",
   "execution_count": 9,
   "metadata": {},
   "outputs": [
    {
     "data": {
      "text/plain": [
       "0.15027698302669307"
      ]
     },
     "execution_count": 9,
     "metadata": {},
     "output_type": "execute_result"
    }
   ],
   "source": [
    "mlb_correlation()"
   ]
  },
  {
   "cell_type": "code",
   "execution_count": null,
   "metadata": {
    "deletable": false,
    "editable": false,
    "nbgrader": {
     "checksum": "cda33b094ba19ccc37a481e0dd29e0bc",
     "grade": true,
     "grade_id": "cell-764d4476f425c5a2",
     "locked": true,
     "points": 20,
     "schema_version": 1,
     "solution": false
    }
   },
   "outputs": [],
   "source": []
  },
  {
   "cell_type": "markdown",
   "metadata": {
    "deletable": false,
    "editable": false,
    "nbgrader": {
     "checksum": "6977a6da9ed6d8b7a0b7e37bbeda709b",
     "grade": false,
     "grade_id": "cell-793df6c04dfb126e",
     "locked": true,
     "schema_version": 1,
     "solution": false
    }
   },
   "source": [
    "## Question 4\n",
    "For this question, calculate the win/loss ratio's correlation with the population of the city it is in for the **NFL** using **2018** data."
   ]
  },
  {
   "cell_type": "code",
   "execution_count": 10,
   "metadata": {
    "deletable": false,
    "nbgrader": {
     "checksum": "c4914ad1e119278ec2bd567c52640b66",
     "grade": false,
     "grade_id": "cell-8ccebc209aeec8d9",
     "locked": false,
     "schema_version": 1,
     "solution": true
    }
   },
   "outputs": [],
   "source": [
    "import pandas as pd\n",
    "import numpy as np\n",
    "import scipy.stats as stats\n",
    "import re\n",
    "\n",
    "nfl_df=pd.read_csv(\"assets/nfl.csv\")\n",
    "cities=pd.read_html(\"assets/wikipedia_data.html\")[1]\n",
    "cities=cities.iloc[:-1,[0,3,5,6,7,8]]\n",
    "\n",
    "def nfl_correlation(): \n",
    "    # YOUR CODE HERE\n",
    "    \n",
    "    nfl_2018 = nfl_df[nfl_df['year'] == 2018]\n",
    "    \n",
    "    nfl_2018.drop(np.arange(0,40,5), inplace=True) # removing string value on each feature \n",
    "    nfl_2018.reset_index(drop=True, inplace=True) # reseting index\n",
    "    nfl_2018 = nfl_2018.astype({'W': int, 'L':int}) # change dtypes from string to int for calculation\n",
    "    nfl_2018['w/l_ratio'] = nfl_2018['W'] / (nfl_2018['W'] + nfl_2018['L']) # counting win / loses rati\n",
    "    \n",
    "    nfl_2018 = nfl_2018[[\"team\", 'w/l_ratio']] # selecting only 2018 dataset an subset \n",
    "                                                                      #feature\n",
    "        \n",
    "    ny_avg_wlratio = np.mean(nfl_2018.loc[[3, 19]])['w/l_ratio']\n",
    "    la_avg_wlratio = np.mean(nfl_2018.loc[[13, 28]])['w/l_ratio']\n",
    "    sf_avg_wlratio = np.mean(nfl_2018.loc[[15, 30]])['w/l_ratio']\n",
    "    \n",
    "    \n",
    "    nfl_2018 = nfl_2018.append({'team': \"New York Avg\", 'w/l_ratio':ny_avg_wlratio}, ignore_index=True)\n",
    "    nfl_2018 = nfl_2018.append({'team': \"Los Angeles Avg\", 'w/l_ratio':la_avg_wlratio}, ignore_index=True)\n",
    "    nfl_2018 = nfl_2018.append({'team': \"San Fransisco Avg\", 'w/l_ratio':sf_avg_wlratio}, ignore_index=True)\n",
    "    \n",
    "    nfl_2018.drop([3, 13, 15, 19, 28, 30], inplace=True)\n",
    "    nfl_2018.reset_index(drop=True, inplace=True)\n",
    "    \n",
    "    nfl_2018['Metropolitan area'] = [\n",
    "        'Boston', 'Miami–Fort Lauderdale', 'Buffalo', 'Baltimore', 'Pittsburgh', 'Cleveland', 'Cincinnati',\n",
    "        'Houston', 'Indianapolis', 'Nashville', 'Jacksonville', 'Kansas City', 'Denver', 'Dallas–Fort Worth', \n",
    "        'Philadelphia', 'Washington, D.C.', 'Chicago', 'Minneapolis–Saint Paul', 'Green Bay', 'Detroit',\n",
    "        'New Orleans', 'Charlotte', 'Atlanta', 'Tampa Bay Area', 'Seattle', 'Phoenix', 'New York City', \n",
    "        'Los Angeles', 'San Francisco Bay Area',\n",
    "    ]\n",
    "    \n",
    "    new_nfl_df = pd.merge(nfl_2018, cities, on='Metropolitan area', how='left')\n",
    "    new_nfl_df = new_nfl_df.astype({'Population (2016 est.)[8]': int})\n",
    "\n",
    "#     raise NotImplementedError()\n",
    "\n",
    "    # pass in metropolitan area population from cities\n",
    "    population_by_region = new_nfl_df['Population (2016 est.)[8]'].to_list()\n",
    "    \n",
    "    # pass in win/loss ratio from mlb_df in the same order as cities[\"Metropolitan area\"]\n",
    "    win_loss_by_region = new_nfl_df['w/l_ratio'].to_list() \n",
    "\n",
    "    assert len(population_by_region) == len(win_loss_by_region), \"Q4: Your lists must be the same length\"\n",
    "    assert len(population_by_region) == 29, \"Q4: There should be 29 teams being analysed for NFL\"\n",
    "\n",
    "    return stats.pearsonr(population_by_region, win_loss_by_region)[0]"
   ]
  },
  {
   "cell_type": "code",
   "execution_count": 11,
   "metadata": {},
   "outputs": [
    {
     "data": {
      "text/plain": [
       "0.004922112149349442"
      ]
     },
     "execution_count": 11,
     "metadata": {},
     "output_type": "execute_result"
    }
   ],
   "source": [
    "nfl_correlation()"
   ]
  },
  {
   "cell_type": "code",
   "execution_count": null,
   "metadata": {
    "deletable": false,
    "editable": false,
    "nbgrader": {
     "checksum": "e9415d6399aa49e3a1a60813afdefa3b",
     "grade": true,
     "grade_id": "cell-de7b148b9554dbda",
     "locked": true,
     "points": 20,
     "schema_version": 1,
     "solution": false
    }
   },
   "outputs": [],
   "source": []
  },
  {
   "cell_type": "markdown",
   "metadata": {
    "deletable": false,
    "editable": false,
    "nbgrader": {
     "checksum": "b02d5cd3273f561e4ae939bb2a41740c",
     "grade": false,
     "grade_id": "cell-97b49d8639e908c4",
     "locked": true,
     "schema_version": 1,
     "solution": false
    }
   },
   "source": [
    "## Question 5\n",
    "In this question I would like you to explore the hypothesis that **given that an area has two sports teams in different sports, those teams will perform the same within their respective sports**. How I would like to see this explored is with a series of paired t-tests (so use [`ttest_rel`](https://docs.scipy.org/doc/scipy/reference/generated/scipy.stats.ttest_rel.html)) between all pairs of sports. Are there any sports where we can reject the null hypothesis? Again, average values where a sport has multiple teams in one region. Remember, you will only be including, for each sport, cities which have teams engaged in that sport, drop others as appropriate. This question is worth 20% of the grade for this assignment."
   ]
  },
  {
   "cell_type": "code",
   "execution_count": 15,
   "metadata": {
    "deletable": false,
    "nbgrader": {
     "checksum": "6d78c961eb66f8d8c81f06d33ae8f393",
     "grade": false,
     "grade_id": "cell-92f25f44b8d1179f",
     "locked": false,
     "schema_version": 1,
     "solution": true
    }
   },
   "outputs": [],
   "source": [
    "import pandas as pd\n",
    "import numpy as np\n",
    "import scipy.stats as stats\n",
    "import re\n",
    "\n",
    "mlb_df=pd.read_csv(\"assets/mlb.csv\")\n",
    "nhl_df=pd.read_csv(\"assets/nhl.csv\")\n",
    "nba_df=pd.read_csv(\"assets/nba.csv\")\n",
    "nfl_df=pd.read_csv(\"assets/nfl.csv\")\n",
    "cities=pd.read_html(\"assets/wikipedia_data.html\")[1]\n",
    "cities=cities.iloc[:-1,[0,3,5,6,7,8]]\n",
    "\n",
    "def sports_team_performance():\n",
    "    # YOUR CODE HERE\n",
    "    \n",
    "    \n",
    "    ############### CITIES OPERATION ###################\n",
    "    selected_cities = cities.loc[~(cities['NFL'].str.startswith(\"—\", na=False)) \n",
    "                                 & ~(cities['NFL'].str.startswith('[n', na=False))]\n",
    "    selected_cities = selected_cities.loc[~(selected_cities['NBA'].str.startswith(\"—\", na=False)) \n",
    "                                 & ~(selected_cities['NBA'].str.startswith('[n', na=False))]\n",
    "    selected_cities = selected_cities.loc[~(selected_cities['NHL'].str.startswith(\"—\", na=False)) \n",
    "                                 & ~(selected_cities['NHL'].str.startswith('[n', na=False))]\n",
    "    selected_cities = selected_cities.loc[~(selected_cities['MLB'].str.startswith(\"—\", na=False)) \n",
    "                                 & ~(selected_cities['MLB'].str.startswith('[n', na=False))]\n",
    "    \n",
    "    \n",
    "    ############### NFL OPERATION #####################\n",
    "    nfl_2018 = nfl_df[nfl_df['year'] == 2018]\n",
    "    \n",
    "    nfl_2018.drop(np.arange(0,40,5), inplace=True) # removing string value on each feature \n",
    "    nfl_2018.reset_index(drop=True, inplace=True) # reseting index\n",
    "    nfl_2018 = nfl_2018.astype({'W': int, 'L':int}) # change dtypes from string to int for calculation\n",
    "    nfl_2018['NFL'] = nfl_2018['W'] / (nfl_2018['W'] + nfl_2018['L']) # counting win / loses ratio\n",
    "    \n",
    "    nfl_2018 = nfl_2018[['NFL']] # selecting only 2018 dataset an subset \n",
    "                                                                      #feature\n",
    "        \n",
    "    ny_avg_wlratio = np.mean(nfl_2018.loc[[3, 19]])['NFL']\n",
    "    la_avg_wlratio = np.mean(nfl_2018.loc[[13, 28]])['NFL']\n",
    "    sf_avg_wlratio = np.mean(nfl_2018.loc[[15, 30]])['NFL']\n",
    "    \n",
    "    \n",
    "    nfl_2018 = nfl_2018.append({'NFL':ny_avg_wlratio}, ignore_index=True)\n",
    "    nfl_2018 = nfl_2018.append({'NFL':la_avg_wlratio}, ignore_index=True)\n",
    "    nfl_2018 = nfl_2018.append({'NFL':sf_avg_wlratio}, ignore_index=True)\n",
    "    \n",
    "    nfl_2018.drop([3, 13, 15, 19, 28, 30], inplace=True)\n",
    "    nfl_2018.reset_index(drop=True, inplace=True)\n",
    "    \n",
    "    nfl_2018['Metropolitan area'] = [\n",
    "        'Boston', 'Miami–Fort Lauderdale', 'Buffalo', 'Baltimore', 'Pittsburgh', 'Cleveland', 'Cincinnati',\n",
    "        'Houston', 'Indianapolis', 'Nashville', 'Jacksonville', 'Kansas City', 'Denver', 'Dallas–Fort Worth', \n",
    "        'Philadelphia', 'Washington, D.C.', 'Chicago', 'Minneapolis–Saint Paul', 'Green Bay', 'Detroit',\n",
    "        'New Orleans', 'Charlotte', 'Atlanta', 'Tampa Bay Area', 'Seattle', 'Phoenix', 'New York City', \n",
    "        'Los Angeles', 'San Francisco Bay Area',\n",
    "    ]\n",
    "    \n",
    "    nfl_2018 = nfl_2018[nfl_2018['Metropolitan area'].isin(selected_cities['Metropolitan area'])]\n",
    "    nfl_2018.sort_values('Metropolitan area', inplace=True)\n",
    "    nfl_2018['NFL'] = nfl_2018['NFL'].apply(lambda x: round(x, 3))\n",
    "    \n",
    "      \n",
    "    \n",
    "    ############### NBA OPERATION #####################\n",
    "    nba_2018 = nba_df[nba_df['year'] == 2018]\n",
    "    nba_2018 = nba_2018.astype({'W': int, 'L':int}) # change dtypes from string to int for calculation\n",
    "    nba_2018['NBA'] = nba_2018['W'] / (nba_2018['W'] + nba_2018['L']) # counting win / loses ratio\n",
    "    \n",
    "    \n",
    "    nba_2018 = nba_2018[['NBA']] # selecting only 2018 dataset an subset \n",
    "                                                                      #feature\n",
    "        \n",
    "    ny_avg_wlratio = np.mean(nba_2018.loc[[10, 11]])['NBA']\n",
    "    la_avg_wlratio = np.mean(nba_2018.loc[[24, 25]])['NBA']\n",
    "    \n",
    "    nba_2018 = nba_2018.append({'NBA':ny_avg_wlratio}, ignore_index=True)\n",
    "    nba_2018 = nba_2018.append({'NBA':la_avg_wlratio}, ignore_index=True)\n",
    "    \n",
    "    nba_2018.drop([10, 11, 24, 25], inplace=True)\n",
    "    nba_2018.reset_index(drop=True, inplace=True)\n",
    "    \n",
    "    nba_2018['Metropolitan area'] = [\n",
    "        'Toronto', 'Boston', 'Philadelphia', 'Cleveland', 'Indianapolis', 'Miami–Fort Lauderdale', 'Milwaukee',\n",
    "        'Washington, D.C.', 'Detroit', 'Charlotte', 'Chicago', 'Orlando', 'Atlanta', 'Houston', \n",
    "        'San Francisco Bay Area', 'Portland', 'Oklahoma City', 'Salt Lake City', 'New Orleans', 'San Antonio',\n",
    "        'Minneapolis–Saint Paul', 'Denver', 'Sacramento', 'Dallas–Fort Worth', 'Memphis', 'Phoenix',\n",
    "        'New York City', 'Los Angeles'\n",
    "    ]\n",
    "    \n",
    "    nba_2018 = nba_2018[nba_2018['Metropolitan area'].isin(selected_cities['Metropolitan area'])]\n",
    "    nba_2018.sort_values('Metropolitan area', inplace=True)\n",
    "    nba_2018['NBA'] = nba_2018['NBA'].apply(lambda x: round(x, 3)) \n",
    "    \n",
    "\n",
    "\n",
    "    ############### NHL OPERATION #####################\n",
    "    nhl_2018 = nhl_df[nhl_df['year'] == 2018]\n",
    "    nhl_2018.drop([0, 9, 18, 26], inplace=True) # removing string value on each feature \n",
    "    nhl_2018.reset_index(drop=True, inplace=True) # reseting index\n",
    "    nhl_2018 = nhl_2018.astype({'W': int, 'L':int}) # change dtypes from string to int for calculation\n",
    "    nhl_2018['NHL'] = nhl_2018['W'] / (nhl_2018['W'] + nhl_2018['L']) # counting win / loses ratio\n",
    "    \n",
    "    \n",
    "    nhl_2018 = nhl_2018[['NHL']] # selecting only 2018 dataset an subset \n",
    "                                                                      #feature\n",
    "        \n",
    "    ny_avg_wlratio = np.mean(nhl_2018.loc[[12, 14, 15]])['NHL']\n",
    "    la_avg_wlratio = np.mean(nhl_2018.loc[[24, 26]])['NHL']\n",
    "    \n",
    "    nhl_2018 = nhl_2018.append({'NHL':ny_avg_wlratio}, ignore_index=True)\n",
    "    nhl_2018 = nhl_2018.append({'NHL':la_avg_wlratio}, ignore_index=True)\n",
    "    \n",
    "    \n",
    "    nhl_2018.drop([12, 14, 15, 24, 26], inplace=True)\n",
    "    nhl_2018.reset_index(drop=True, inplace=True) # reseting index\n",
    "    \n",
    "    nhl_2018['Metropolitan area'] = [\n",
    "        'Tampa Bay Area', 'Boston', 'Toronto', 'Miami–Fort Lauderdale', 'Detroit', 'Montreal', 'Ottawa',\n",
    "        'Buffalo', 'Washington, D.C.','Pittsburgh', 'Philadelphia', 'Columbus', 'Raleigh', 'Nashville', 'Winnipeg',\n",
    "        'Minneapolis–Saint Paul', 'Denver', 'St. Louis', 'Dallas–Fort Worth', 'Chicago', 'Las Vegas',\n",
    "        'San Francisco Bay Area', 'Calgary', 'Edmonton', 'Vancouver', 'Phoenix', 'New York City', 'Los Angeles'\n",
    "    ]\n",
    "    \n",
    "    nhl_2018 = nhl_2018[nhl_2018['Metropolitan area'].isin(selected_cities['Metropolitan area'])]\n",
    "    nhl_2018.sort_values('Metropolitan area', inplace=True)\n",
    "    nhl_2018['NHL'] = nhl_2018['NHL'].apply(lambda x: round(x, 3))\n",
    "    \n",
    "\n",
    "\n",
    "    ############### MLB OPERATION #####################\n",
    "    \n",
    "    mlb_2018 = mlb_df[mlb_df['year'] == 2018]\n",
    "    mlb_2018 = mlb_2018.astype({'W': int, 'L':int}) # change dtypes from string to int for calculation\n",
    "    mlb_2018['MLB'] = mlb_2018['W'] / (mlb_2018['W'] + mlb_2018['L']) # counting win / loses ratio\n",
    "    \n",
    "    \n",
    "    mlb_2018 = mlb_2018[['MLB']] # selecting only 2018 dataset an subset \n",
    "                                                                      #feature\n",
    "    ny_avg_wlratio = np.mean(mlb_2018.loc[[1, 18]])['MLB']\n",
    "    la_avg_wlratio = np.mean(mlb_2018.loc[[13, 25]])['MLB']\n",
    "    sf_avg_wlratio = np.mean(mlb_2018.loc[[11, 28]])['MLB']\n",
    "    cg_avg_wlratio = np.mean(mlb_2018.loc[[8, 21]])['MLB']\n",
    "    \n",
    "    mlb_2018 = mlb_2018.append({'MLB':ny_avg_wlratio}, ignore_index=True)\n",
    "    mlb_2018 = mlb_2018.append({'MLB':la_avg_wlratio}, ignore_index=True)\n",
    "    mlb_2018 = mlb_2018.append({'MLB':sf_avg_wlratio}, ignore_index=True)\n",
    "    mlb_2018 = mlb_2018.append({'MLB':cg_avg_wlratio}, ignore_index=True)\n",
    "    \n",
    "    mlb_2018.drop([1, 8, 11, 13, 18, 21, 25, 28], inplace=True)\n",
    "    mlb_2018.reset_index(drop=True, inplace=True)\n",
    "    \n",
    "    mlb_2018['Metropolitan area'] = [\n",
    "        'Boston', 'Tampa Bay Area', 'Toronto', 'Baltimore', 'Cleveland', 'Minneapolis–Saint Paul', 'Detroit',\n",
    "        'Kansas City', 'Houston', 'Seattle', 'Dallas–Fort Worth', 'Atlanta', 'Washington, D.C.', 'Philadelphia', \n",
    "        'Miami–Fort Lauderdale', 'Milwaukee', 'St. Louis', 'Pittsburgh', 'Cincinnati', 'Denver',\n",
    "        'Phoenix', 'San Diego', 'New York City', 'Los Angeles', 'San Francisco Bay Area', 'Chicago'\n",
    "    ]\n",
    "    \n",
    "    mlb_2018 = mlb_2018[mlb_2018['Metropolitan area'].isin(selected_cities['Metropolitan area'])]\n",
    "    mlb_2018.sort_values('Metropolitan area', inplace=True)\n",
    "    mlb_2018['MLB'] = mlb_2018['MLB'].apply(lambda x: round(x, 3))\n",
    "    \n",
    "\n",
    "    merged_df = pd.merge(nfl_2018, nba_2018, on=\"Metropolitan area\")\n",
    "    merged_df = pd.merge(merged_df, nhl_2018, on=\"Metropolitan area\")\n",
    "    merged_df = pd.merge(merged_df, mlb_2018, on=\"Metropolitan area\")\n",
    "                                    \n",
    "# #     raise NotImplementedError()\n",
    "    \n",
    "#     # Note: p_values is a full dataframe, so df.loc[\"NFL\",\"NBA\"] should be the same as df.loc[\"NBA\",\"NFL\"] and\n",
    "#     # df.loc[\"NFL\",\"NFL\"] should return np.nan\n",
    "    sports = ['NFL', 'NBA', 'NHL', 'MLB']\n",
    "    p_values = pd.DataFrame({k:np.nan for k in sports}, index=sports)\n",
    "    \n",
    "    for x in sports:\n",
    "        for y in sports:\n",
    "            p_values.loc[x, y] = stats.ttest_rel(merged_df[y].to_list(), merged_df[x].to_list())[1]\n",
    "    \n",
    "    return p_values"
   ]
  },
  {
   "cell_type": "code",
   "execution_count": 16,
   "metadata": {},
   "outputs": [
    {
     "data": {
      "text/html": [
       "<div>\n",
       "<style scoped>\n",
       "    .dataframe tbody tr th:only-of-type {\n",
       "        vertical-align: middle;\n",
       "    }\n",
       "\n",
       "    .dataframe tbody tr th {\n",
       "        vertical-align: top;\n",
       "    }\n",
       "\n",
       "    .dataframe thead th {\n",
       "        text-align: right;\n",
       "    }\n",
       "</style>\n",
       "<table border=\"1\" class=\"dataframe\">\n",
       "  <thead>\n",
       "    <tr style=\"text-align: right;\">\n",
       "      <th></th>\n",
       "      <th>NFL</th>\n",
       "      <th>NBA</th>\n",
       "      <th>NHL</th>\n",
       "      <th>MLB</th>\n",
       "    </tr>\n",
       "  </thead>\n",
       "  <tbody>\n",
       "    <tr>\n",
       "      <th>NFL</th>\n",
       "      <td>NaN</td>\n",
       "      <td>0.913091</td>\n",
       "      <td>0.100427</td>\n",
       "      <td>0.772830</td>\n",
       "    </tr>\n",
       "    <tr>\n",
       "      <th>NBA</th>\n",
       "      <td>0.913091</td>\n",
       "      <td>NaN</td>\n",
       "      <td>0.011328</td>\n",
       "      <td>0.820885</td>\n",
       "    </tr>\n",
       "    <tr>\n",
       "      <th>NHL</th>\n",
       "      <td>0.100427</td>\n",
       "      <td>0.011328</td>\n",
       "      <td>NaN</td>\n",
       "      <td>0.010265</td>\n",
       "    </tr>\n",
       "    <tr>\n",
       "      <th>MLB</th>\n",
       "      <td>0.772830</td>\n",
       "      <td>0.820885</td>\n",
       "      <td>0.010265</td>\n",
       "      <td>NaN</td>\n",
       "    </tr>\n",
       "  </tbody>\n",
       "</table>\n",
       "</div>"
      ],
      "text/plain": [
       "          NFL       NBA       NHL       MLB\n",
       "NFL       NaN  0.913091  0.100427  0.772830\n",
       "NBA  0.913091       NaN  0.011328  0.820885\n",
       "NHL  0.100427  0.011328       NaN  0.010265\n",
       "MLB  0.772830  0.820885  0.010265       NaN"
      ]
     },
     "execution_count": 16,
     "metadata": {},
     "output_type": "execute_result"
    }
   ],
   "source": [
    "sports_team_performance()"
   ]
  },
  {
   "cell_type": "code",
   "execution_count": null,
   "metadata": {
    "deletable": false,
    "editable": false,
    "nbgrader": {
     "checksum": "2a596ab421a45cc01168d10e8fbb8f89",
     "grade": true,
     "grade_id": "cell-fb4b9cb5ff4570a6",
     "locked": true,
     "points": 20,
     "schema_version": 1,
     "solution": false
    }
   },
   "outputs": [],
   "source": []
  }
 ],
 "metadata": {
  "coursera": {
   "schema_names": [
    "mooc_adswpy_1_v2_assignment4"
   ]
  },
  "kernelspec": {
   "display_name": "Python 3",
   "language": "python",
   "name": "python3"
  },
  "language_info": {
   "codemirror_mode": {
    "name": "ipython",
    "version": 3
   },
   "file_extension": ".py",
   "mimetype": "text/x-python",
   "name": "python",
   "nbconvert_exporter": "python",
   "pygments_lexer": "ipython3",
   "version": "3.8.3"
  }
 },
 "nbformat": 4,
 "nbformat_minor": 4
}
